{
 "cells": [
  {
   "cell_type": "code",
   "execution_count": null,
   "id": "cf20a84f",
   "metadata": {},
   "outputs": [],
   "source": [
    "import ray\n",
    "import numpy as np\n",
    "import pandas as pd\n",
    "import joblib\n",
    "\n",
    "from ray.util.joblib import register_ray\n",
    "from sklearn.model_selection import RandomizedSearchCV\n",
    "from sklearn.svm import SVC\n",
    "\n",
    "from cloud_data_cockpit import DataCockpit"
   ]
  },
  {
   "cell_type": "code",
   "execution_count": null,
   "id": "68ac87a2",
   "metadata": {},
   "outputs": [],
   "source": [
    "ray.init()\n",
    "register_ray()"
   ]
  },
  {
   "cell_type": "markdown",
   "id": "501a5ecf",
   "metadata": {},
   "source": [
    "## Data Loading and Partitioning with DataCockpit\n",
    "\n",
    "In this cell, we will initialize the data loader and prepare the dataset for distributed processing with Ray. You should:\n",
    "\n",
    "1. **Select a CSV file**  \n",
    "   - For example, use `iris.csv`, which is already available in this workspace.  \n",
    "   - If you want to use a different CSV, upload it.\n",
    "\n",
    "2. **Define the number of _chunks_**  \n",
    "   - Specify into how many partitions (_chunks_) you want to split the dataset.  \n",
    "   - This allows Ray to distribute the workload efficiently.\n",
    "\n",
    "3. **Partition the dataset**  \n",
    "   - Use DataCockpit to divide the CSV into the defined number of _chunks_.  \n",
    "\n",
    "4. **Run the rest of the notebook with Ray**  \n",
    "   - Once the dataset is partitioned, Ray will handle parallel processing.  \n",
    "   - Make sure you have initialized your Ray cluster before proceeding."
   ]
  },
  {
   "cell_type": "code",
   "execution_count": null,
   "id": "ed842081",
   "metadata": {},
   "outputs": [],
   "source": [
    "data_loader = DataCockpit()"
   ]
  },
  {
   "cell_type": "code",
   "execution_count": null,
   "id": "a5fac91f",
   "metadata": {},
   "outputs": [],
   "source": [
    "slices = data_loader.get_data_slices()"
   ]
  },
  {
   "cell_type": "code",
   "execution_count": null,
   "id": "09e3d676",
   "metadata": {},
   "outputs": [],
   "source": [
    "# Define a remote task to process each slice\n",
    "@ray.remote\n",
    "def process_slice(slice_id, data_slice):\n",
    "    df: pd.DataFrame = data_slice.get_as_pandas()\n",
    "    # Compute new features\n",
    "    df[\"sepal_area\"]  = df[\"sepal_length\"] * df[\"sepal_width\"]\n",
    "    df[\"petal_ratio\"] = df[\"petal_length\"] / df[\"petal_width\"]\n",
    "    return df"
   ]
  },
  {
   "cell_type": "code",
   "execution_count": null,
   "id": "9adeebf8",
   "metadata": {},
   "outputs": [],
   "source": [
    "\n",
    "# Process all slices in parallel and collect the DataFrames\n",
    "futures = [process_slice.remote(i, sl) for i, sl in enumerate(slices)]\n",
    "dfs = ray.get(futures)"
   ]
  },
  {
   "cell_type": "code",
   "execution_count": null,
   "id": "a7bb0b64",
   "metadata": {},
   "outputs": [],
   "source": [
    "# Concatenate into a single DataFrame and prepare X, y\n",
    "full_df = pd.concat(dfs, ignore_index=True)\n",
    "X = full_df[[\"sepal_area\", \"petal_ratio\"]].values\n",
    "y = pd.Categorical(full_df[\"species\"]).codes"
   ]
  },
  {
   "cell_type": "code",
   "execution_count": null,
   "id": "835a05ea",
   "metadata": {},
   "outputs": [],
   "source": [
    "# Define the hyperparameter search space and RandomizedSearchCV\n",
    "param_space = {\n",
    "    \"C\": np.logspace(-3, 3, 20),\n",
    "    \"gamma\": np.logspace(-4, 1, 20),\n",
    "    \"kernel\": [\"rbf\", \"poly\"],\n",
    "}\n",
    "svc = SVC()\n",
    "search = RandomizedSearchCV(\n",
    "    svc,\n",
    "    param_space,\n",
    "    n_iter=10,\n",
    "    cv=3,\n",
    "    verbose=2,\n",
    "    scoring=\"accuracy\"\n",
    ")"
   ]
  },
  {
   "cell_type": "code",
   "execution_count": null,
   "id": "5994b1f7",
   "metadata": {},
   "outputs": [],
   "source": [
    "# Run the search using Ray as the Joblib backend\n",
    "with joblib.parallel_backend(\"ray\"):\n",
    "    search.fit(X, y)"
   ]
  },
  {
   "cell_type": "code",
   "execution_count": null,
   "id": "6729a6f4",
   "metadata": {},
   "outputs": [],
   "source": [
    "# Print results\n",
    "print(\"Best parameters:\", search.best_params_)\n",
    "print(f\"Best CV accuracy: {search.best_score_:.4f}\")"
   ]
  },
  {
   "cell_type": "code",
   "execution_count": null,
   "id": "112b9628",
   "metadata": {},
   "outputs": [],
   "source": [
    "ray.shutdown()"
   ]
  }
 ],
 "metadata": {
  "kernelspec": {
   "display_name": "Python 3",
   "language": "python",
   "name": "python3"
  },
  "language_info": {
   "codemirror_mode": {
    "name": "ipython",
    "version": 3
   },
   "file_extension": ".py",
   "mimetype": "text/x-python",
   "name": "python",
   "nbconvert_exporter": "python",
   "pygments_lexer": "ipython3",
   "version": "3.10.17"
  }
 },
 "nbformat": 4,
 "nbformat_minor": 5
}
